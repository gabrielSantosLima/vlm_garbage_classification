{
 "cells": [
  {
   "cell_type": "markdown",
   "id": "2e68272d",
   "metadata": {},
   "source": [
    "# Exploring the dataset"
   ]
  },
  {
   "cell_type": "code",
   "execution_count": 6,
   "id": "403ca5a0",
   "metadata": {},
   "outputs": [],
   "source": [
    "import os\n",
    "import pandas as pd\n",
    "import matplotlib.pyplot as plt\n",
    "import kagglehub\n",
    "from configurations import DATASET_PATH"
   ]
  },
  {
   "cell_type": "markdown",
   "id": "6714dbca",
   "metadata": {},
   "source": [
    "## Downloading the dataset"
   ]
  },
  {
   "cell_type": "code",
   "execution_count": 7,
   "id": "cd31dfdf",
   "metadata": {},
   "outputs": [
    {
     "name": "stdout",
     "output_type": "stream",
     "text": [
      "Warning: Looks like you're using an outdated `kagglehub` version, please consider updating (latest version: 0.3.13)\n",
      "<class 'pandas.core.frame.DataFrame'>\n",
      "RangeIndex: 2527 entries, 0 to 2526\n",
      "Data columns (total 3 columns):\n",
      " #   Column      Non-Null Count  Dtype \n",
      "---  ------      --------------  ----- \n",
      " 0   image_name  2527 non-null   object\n",
      " 1   class_name  2527 non-null   object\n",
      " 2   image_path  2527 non-null   object\n",
      "dtypes: object(3)\n",
      "memory usage: 59.4+ KB\n"
     ]
    }
   ],
   "source": [
    "local_path = kagglehub.dataset_download(\"asdasdasasdas/garbage-classification\")\n",
    "dataset_tmp_path = os.path.join(local_path, \"Garbage classification\", \"Garbage classification\")\n",
    "classes = os.listdir(dataset_tmp_path)\n",
    "\n",
    "dataset = {\n",
    "    'image_name': [],\n",
    "    'class_name': [],\n",
    "    'image_path': [],\n",
    "}\n",
    "for class_name in classes:\n",
    "    class_path = os.path.join(dataset_tmp_path, class_name)\n",
    "    for image_name in os.listdir(class_path):\n",
    "        image_path = os.path.join(class_path, image_name)\n",
    "        dataset[\"class_name\"].append(class_name)\n",
    "        dataset[\"image_name\"].append(image_name)\n",
    "        dataset[\"image_path\"].append(image_path)\n",
    "        \n",
    "dataset = pd.DataFrame.from_dict(dataset)\n",
    "dataset.info()"
   ]
  },
  {
   "cell_type": "code",
   "execution_count": 8,
   "id": "5659a085",
   "metadata": {},
   "outputs": [],
   "source": [
    "dataset.to_csv(DATASET_PATH, sep=\";\", decimal=',', index=False)"
   ]
  }
 ],
 "metadata": {
  "kernelspec": {
   "display_name": "deep_learning",
   "language": "python",
   "name": "python3"
  },
  "language_info": {
   "codemirror_mode": {
    "name": "ipython",
    "version": 3
   },
   "file_extension": ".py",
   "mimetype": "text/x-python",
   "name": "python",
   "nbconvert_exporter": "python",
   "pygments_lexer": "ipython3",
   "version": "3.10.0"
  }
 },
 "nbformat": 4,
 "nbformat_minor": 5
}
